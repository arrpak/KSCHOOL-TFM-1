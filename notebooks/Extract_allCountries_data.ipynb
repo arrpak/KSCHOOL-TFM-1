{
 "cells": [
  {
   "cell_type": "markdown",
   "metadata": {},
   "source": [
    "This notebook was used to build geo database. A csv from the allCountries1500.txt (geographical info from places with more than 1500 people) was downloaded from http://www.geonames.org/ and 4 dictionries are built:\n",
    "        "
   ]
  },
  {
   "cell_type": "markdown",
   "metadata": {},
   "source": [
    "geonameid_info_dict = id vs all info related to id (country name, population, etc.)\n",
    "name_geonameidLIST_dict = oficial name of place vs ids of all places with that name\n",
    "asciiname_geonameidLIST_dict = ascii name of place vs ids of all places with that name\n",
    "altnames_geonameidLIST_dict = alternative names of places vs ids of all places with that name"
   ]
  },
  {
   "cell_type": "code",
   "execution_count": 1,
   "metadata": {
    "collapsed": true
   },
   "outputs": [],
   "source": [
    "import os\n",
    "from collections import namedtuple, Counter, OrderedDict\n",
    "import re\n",
    "import datetime\n",
    "import pickle\n",
    "from itertools import groupby"
   ]
  },
  {
   "cell_type": "code",
   "execution_count": 2,
   "metadata": {
    "collapsed": false
   },
   "outputs": [],
   "source": [
    "geonameid_info_dict = dict()\n",
    "sep='\\t'\n",
    "encoding='utf-8'\n",
    "filename = '../geonames/allCountries1500.txt'\n",
    "with open(filename, 'rb') as f:    \n",
    "    for line in f:\n",
    "        line = map(lambda x: x.decode(encoding), line.replace('\\n', '').split(sep))\n",
    "        fields = ['geonameid', 'name', 'asciiname', 'alternatenames', 'latitude', 'longitude', \n",
    "                  'feature class', 'feature code', 'country code', 'cc2', 'admin1 code', \n",
    "                  'admin2 code', 'admin3 code', 'admin4 code', 'population', 'elevation', \n",
    "                  'dem', 'timezone', 'modification date']\n",
    "        insert_dict = {}\n",
    "        geonameid = int(line[0])\n",
    "        if not line[1]=='': insert_dict[fields[1]] = line[1]\n",
    "        if not line[2]=='': insert_dict[fields[2]] = line[2]\n",
    "        if line[3]=='':\n",
    "            insert_dict[fields[3]] = []\n",
    "        else:\n",
    "            insert_dict[fields[3]] = line[3].split(',')\n",
    "        if not line[4]=='': insert_dict[fields[4]] = float(line[4])\n",
    "        if not line[5]=='': insert_dict[fields[5]] = float(line[5])\n",
    "        if not line[6]=='': insert_dict[fields[6]] = line[6]\n",
    "        if not line[7]=='': insert_dict[fields[7]] = line[7]\n",
    "        if not line[8]=='': insert_dict[fields[8]] = line[8]\n",
    "        if not line[9]=='': insert_dict[fields[9]] = line[9].split(',')\n",
    "        if not line[10]=='': insert_dict[fields[10]] = line[10]\n",
    "        if not line[11]=='': insert_dict[fields[11]] = line[11]\n",
    "        if not line[12]=='': insert_dict[fields[12]] = line[12]\n",
    "        if not line[13]=='': insert_dict[fields[13]] = line[13]\n",
    "        if not line[14]=='': insert_dict[fields[14]] = int(line[14])\n",
    "        if not line[15]=='': insert_dict[fields[15]] = int(line[15])\n",
    "        if not line[16]=='': insert_dict[fields[16]] = int(line[16])\n",
    "        if not line[17]=='': insert_dict[fields[17]] = line[17]\n",
    "        if not line[18]=='': insert_dict[fields[18]] = datetime.datetime(*map(lambda x: int(x), line[18].split('-')))\n",
    "        geonameid_info_dict[geonameid] = insert_dict"
   ]
  },
  {
   "cell_type": "code",
   "execution_count": 3,
   "metadata": {
    "collapsed": false
   },
   "outputs": [
    {
     "name": "stdout",
     "output_type": "stream",
     "text": [
      "There are 47151 registries in dictionary\n"
     ]
    }
   ],
   "source": [
    "print(\"There are {} registries in dictionary\".format(len(geonameid_info_dict.keys())))"
   ]
  },
  {
   "cell_type": "markdown",
   "metadata": {},
   "source": [
    "# Create 3 search name dictionary: name, asciiname, alternative names"
   ]
  },
  {
   "cell_type": "markdown",
   "metadata": {},
   "source": [
    "name_geonameidLIST_dict is a dictionary with key = name of geographycal point and value = list of geonameids"
   ]
  },
  {
   "cell_type": "code",
   "execution_count": 9,
   "metadata": {
    "collapsed": true
   },
   "outputs": [],
   "source": [
    "gid_n_list = [(x, geonameid_info_dict[x]['name'].lower()) for x in  geonameid_info_dict.keys()]\n",
    "gid_n_list.sort(key = lambda s: s[1])\n",
    "\n",
    "name_geonameidLIST_dict = dict()\n",
    "for key,valuesiter in groupby(gid_n_list, key=lambda s: s[1]):\n",
    "    name_geonameidLIST_dict[key] = [v[0] for v in valuesiter]"
   ]
  },
  {
   "cell_type": "markdown",
   "metadata": {},
   "source": [
    "asciiname_geonameidLIST_dict is a dictionary with key = ascii name of geographycal point and value = list of geonameids"
   ]
  },
  {
   "cell_type": "code",
   "execution_count": 10,
   "metadata": {
    "collapsed": true
   },
   "outputs": [],
   "source": [
    "gid_n_list = [(x, geonameid_info_dict[x]['asciiname'].lower()) for x in  geonameid_info_dict.keys()]\n",
    "gid_n_list.sort(key = lambda s: s[1])\n",
    "\n",
    "asciiname_geonameidLIST_dict = dict()\n",
    "for key,valuesiter in groupby(gid_n_list, key=lambda s: s[1]):\n",
    "    asciiname_geonameidLIST_dict[key] = [v[0] for v in valuesiter]"
   ]
  },
  {
   "cell_type": "markdown",
   "metadata": {},
   "source": [
    "altnames_geonameidLIST_dict is a dictionary with key = alternative name of geographycal point and value = list of geonameids"
   ]
  },
  {
   "cell_type": "code",
   "execution_count": 11,
   "metadata": {
    "collapsed": false
   },
   "outputs": [],
   "source": [
    "gid_n_list = []\n",
    "for key in geonameid_info_dict.keys():\n",
    "    for altname in geonameid_info_dict[key]['alternatenames']:\n",
    "        gid_n_list += [(key, altname.lower())]\n",
    "\n",
    "gid_n_list.sort(key = lambda s: s[1])\n",
    "\n",
    "altnames_geonameidLIST_dict = dict()\n",
    "for key,valuesiter in groupby(gid_n_list, key=lambda s: s[1]):\n",
    "    altnames_geonameidLIST_dict[key] = [v[0] for v in valuesiter]"
   ]
  },
  {
   "cell_type": "code",
   "execution_count": 13,
   "metadata": {
    "collapsed": false
   },
   "outputs": [
    {
     "name": "stdout",
     "output_type": "stream",
     "text": [
      "there are 39092, 38911, 47151 items in name, asciiname and altnames dictionaries\n"
     ]
    }
   ],
   "source": [
    "print(\"there are {}, {}, {} items in name, asciiname and altnames dictionaries\".format(len(name_geonameidLIST_dict.keys()), \n",
    "                                                                                     len(asciiname_geonameidLIST_dict.keys()), \n",
    "                                                                                     len(geonameid_info_dict.keys())))\n"
   ]
  },
  {
   "cell_type": "markdown",
   "metadata": {},
   "source": [
    "Finally, lets save all dictionaries to file in pickle format"
   ]
  },
  {
   "cell_type": "code",
   "execution_count": 14,
   "metadata": {
    "collapsed": false
   },
   "outputs": [],
   "source": [
    "pickle.dump(geonameid_info_dict, open('../geonames/geonameid_info_dict.p','w'))\n",
    "pickle.dump(name_geonameidLIST_dict, open('../geonames/name_geonameidLIST_dict.p','w'))\n",
    "pickle.dump(asciiname_geonameidLIST_dict, open('../geonames/asciiname_geonameidLIST_dict.p','w'))\n",
    "pickle.dump(altnames_geonameidLIST_dict, open('../geonames/altnames_geonameidLIST_dict.p','w'))"
   ]
  },
  {
   "cell_type": "code",
   "execution_count": null,
   "metadata": {
    "collapsed": true
   },
   "outputs": [],
   "source": [
    "#To load!\n",
    "geonameid_info_dict = pickle.load(open('../geonames/geonameid_info_dict.p'))\n",
    "name_geonameidLIST_dict = pickle.dump(open('../geonames/name_geonameidLIST_dict.p','w'))\n",
    "asciiname_geonameidLIST_dict = pickle.dump(open('../geonames/asciiname_geonameidLIST_dict.p','w'))\n",
    "altnames_geonameidLIST_dict = pickle.dump(open('../geonames/altnames_geonameidLIST_dict.p','w'))"
   ]
  },
  {
   "cell_type": "code",
   "execution_count": null,
   "metadata": {
    "collapsed": true
   },
   "outputs": [],
   "source": []
  }
 ],
 "metadata": {
  "kernelspec": {
   "display_name": "Python 2",
   "language": "python",
   "name": "python2"
  },
  "language_info": {
   "codemirror_mode": {
    "name": "ipython",
    "version": 2
   },
   "file_extension": ".py",
   "mimetype": "text/x-python",
   "name": "python",
   "nbconvert_exporter": "python",
   "pygments_lexer": "ipython2",
   "version": "2.7.12"
  }
 },
 "nbformat": 4,
 "nbformat_minor": 0
}
