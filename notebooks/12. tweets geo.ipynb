{
 "cells": [
  {
   "cell_type": "code",
   "execution_count": null,
   "metadata": {
    "collapsed": true
   },
   "outputs": [],
   "source": []
  },
  {
   "cell_type": "code",
   "execution_count": 1,
   "metadata": {
    "collapsed": true
   },
   "outputs": [],
   "source": [
    "import pprint\n",
    "import re\n",
    "import pickle\n",
    "import unicodedata\n",
    "from pymongo import MongoClient\n",
    "import matplotlib.pyplot as plt\n",
    "%matplotlib inline\n",
    "import numpy as np\n",
    "#DB connection\n",
    "MONGODB_HOST = 'localhost'\n",
    "MONGODB_PORT = 27017\n",
    "DBS_NAME = 'KSCHOOL_TFM'\n",
    "COLLECTION_NAME = 'tweets'\n",
    "connection = MongoClient(MONGODB_HOST, MONGODB_PORT) #getting client\n",
    "db_tweets = connection[DBS_NAME][COLLECTION_NAME] #getting db    \n"
   ]
  },
  {
   "cell_type": "markdown",
   "metadata": {
    "collapsed": true
   },
   "source": [
    "**Important note:** The data used in the notebook comes from a live database. The database stores tweets continously. Thus, metrics from the databese will be different in different parts of the notebooks. However, we mostly calculate relative metrix from a large sample thus results should be representative."
   ]
  },
  {
   "cell_type": "markdown",
   "metadata": {},
   "source": [
    "- coordinates: Represents the geographic location of this Tweet as reported by the user or client application. The inner coordinates array is formatted as geoJSON (longitude first, then latitude)\n",
    "\n",
    "- geo: *Deprecated* Use the “coordinates” field instead.\n",
    "\n",
    "- place: When present, indicates that the tweet is associated (but not necessarily originating from) a Place. \n",
    "\n",
    "- user.location: The user-defined location for this account’s profile. Not necessarily a location nor parseable. This field will occasionally be fuzzily interpreted by the Search service.\n"
   ]
  },
  {
   "cell_type": "markdown",
   "metadata": {},
   "source": [
    "## tweets with coordinates"
   ]
  },
  {
   "cell_type": "code",
   "execution_count": 33,
   "metadata": {
    "collapsed": false
   },
   "outputs": [
    {
     "name": "stdout",
     "output_type": "stream",
     "text": [
      "There are 0 tweets with coordinates\n"
     ]
    }
   ],
   "source": [
    "n_tweets_with_coordinates = db_tweets.find({\"coordiantes\": {'$ne': None}}).count()\n",
    "print(\"There are {} tweets with coordinates\".format(n_tweets_with_coordinates))"
   ]
  },
  {
   "cell_type": "markdown",
   "metadata": {},
   "source": [
    "## tweets with place"
   ]
  },
  {
   "cell_type": "code",
   "execution_count": 25,
   "metadata": {
    "collapsed": true
   },
   "outputs": [],
   "source": [
    "n_tweets_with_places = db_tweets.find({\"place\": {'$ne': None}}).count()\n",
    "n_tweets = db_tweets.find().count()"
   ]
  },
  {
   "cell_type": "code",
   "execution_count": 31,
   "metadata": {
    "collapsed": false
   },
   "outputs": [
    {
     "name": "stdout",
     "output_type": "stream",
     "text": [
      "30293 out of 1148446 tweets have 'place' field, that is 2.64% of tweets\n"
     ]
    }
   ],
   "source": [
    "print(\"{} out of {} tweets have 'place' field, that is {:.2f}% of tweets\".format(n_tweets_with_places, n_tweets, 100*n_tweets_with_places/float(n_tweets)  ))"
   ]
  },
  {
   "cell_type": "markdown",
   "metadata": {},
   "source": [
    "Example content of place in tweet"
   ]
  },
  {
   "cell_type": "code",
   "execution_count": 34,
   "metadata": {
    "collapsed": false
   },
   "outputs": [
    {
     "name": "stdout",
     "output_type": "stream",
     "text": [
      "{u'attributes': {},\n",
      " u'bounding_box': {u'coordinates': [[[-74.685619, 39.236269],\n",
      "                                     [-74.661043, 39.236269],\n",
      "                                     [-74.661043, 39.2512758],\n",
      "                                     [-74.685619, 39.2512758]]],\n",
      "                   u'type': u'Polygon'},\n",
      " u'contained_within': [],\n",
      " u'country': u'United States',\n",
      " u'country_code': u'US',\n",
      " u'full_name': u'Palermo, NJ',\n",
      " u'id': u'00bc1ea14f9a46c7',\n",
      " u'name': u'Palermo',\n",
      " u'place_type': u'city',\n",
      " u'url': u'https://api.twitter.com/1.1/geo/id/00bc1ea14f9a46c7.json'}\n"
     ]
    }
   ],
   "source": [
    "t=db_tweets.find_one({\"place\": {'$ne': None}})\n",
    "pprint.pprint(t['place'])"
   ]
  },
  {
   "cell_type": "markdown",
   "metadata": {},
   "source": [
    "## user location"
   ]
  },
  {
   "cell_type": "code",
   "execution_count": 40,
   "metadata": {
    "collapsed": true
   },
   "outputs": [],
   "source": [
    "n_tweets_with_location = db_tweets.find({\"user.location\": {'$ne': u''}}).count()\n",
    "n_tweets = db_tweets.find().count()"
   ]
  },
  {
   "cell_type": "code",
   "execution_count": 41,
   "metadata": {
    "collapsed": false
   },
   "outputs": [
    {
     "name": "stdout",
     "output_type": "stream",
     "text": [
      "799609 out of 1150441 tweets have 'user.location' field, that is 69.50% of tweets\n"
     ]
    }
   ],
   "source": [
    "print(\"{} out of {} tweets have 'user.location' field, that is {:.2f}% of tweets\".format(n_tweets_with_location, n_tweets, 100*n_tweets_with_location/float(n_tweets)  ))"
   ]
  },
  {
   "cell_type": "markdown",
   "metadata": {},
   "source": [
    "Example user locations:"
   ]
  },
  {
   "cell_type": "code",
   "execution_count": 56,
   "metadata": {
    "collapsed": false
   },
   "outputs": [
    {
     "name": "stdout",
     "output_type": "stream",
     "text": [
      "South Jersey\n",
      "San Diego, CA\n",
      "Austin, TX\n",
      "Alma, Kansas\n",
      "Maryland, USA\n",
      "Unicorn Island\n",
      "Portland, OR\n",
      "Northside478\n",
      "grind\n",
      "Arkham\n",
      "Orlando, FL\n",
      "Duluth, GA\n",
      "Bessemer AL\n",
      "Atlanta\n",
      "Atlanta, GA\n",
      "Madison, CT\n",
      "NYC\n",
      "NYC\n",
      "Spartanburg, SC\n",
      "Walt Disney World\n"
     ]
    }
   ],
   "source": [
    "tweets = db_tweets.find({\"user.location\": {'$ne': u''}}).limit(20)\n",
    "locations = [tweet['user']['location'] for tweet in tweets]\n",
    "print('\\n'.join(locations))"
   ]
  },
  {
   "cell_type": "markdown",
   "metadata": {},
   "source": [
    "As can be seen, the location field is not structured and may contain fictional information"
   ]
  },
  {
   "cell_type": "markdown",
   "metadata": {},
   "source": [
    "# User location field format"
   ]
  },
  {
   "cell_type": "markdown",
   "metadata": {},
   "source": [
    "Lets extract unique tweet locations"
   ]
  },
  {
   "cell_type": "code",
   "execution_count": 23,
   "metadata": {
    "collapsed": false
   },
   "outputs": [],
   "source": [
    "locations_tweets = db_tweets.find({\"user.location\":{\"$ne\":''}}).distinct('user.location')\n",
    "n_tweets = db_tweets.find().count()\n",
    "n_nonempty_locations_tweets = db_tweets.find({\"user.location\":{\"$ne\":''}}).count()\n",
    "n_unique_locations = len(locations_tweets)"
   ]
  },
  {
   "cell_type": "code",
   "execution_count": 24,
   "metadata": {
    "collapsed": false
   },
   "outputs": [
    {
     "name": "stdout",
     "output_type": "stream",
     "text": [
      "There are 263020 unique locations in 1536626 stored tweets (0.17 repetition rate). Also, there are 1070231 users with non empty location field, thus, with respect to nonempty locations, there is a 0.25 repetion rate\n"
     ]
    }
   ],
   "source": [
    "print(\"There are {} unique locations in {} stored tweets ({:.2f} repetition rate). Also, there are {} users with non empty location field, thus, with respect to nonempty locations, there is a {:.2f} repetion rate\".format(n_unique_locations, n_tweets, float(n_unique_locations)/n_tweets, n_nonempty_locations_tweets, float(n_unique_locations)/n_nonempty_locations_tweets))"
   ]
  },
  {
   "cell_type": "code",
   "execution_count": 13,
   "metadata": {
    "collapsed": false
   },
   "outputs": [],
   "source": [
    "#pickle.dump(locations_tweets, open('/home/michael/locations.p','w'))\n",
    "locations_tweets = pickle.load(open('/home/michael/locations.p'))\n",
    "\n",
    "#to convert to unicode\n",
    "#unicodedata.normalize('NFD', unicode('asbs')).encode('ASCII', 'ignore')\n",
    "#split_nonalphabetic_or_space = lambda x: map(lambda y: y.strip(), re.split('[^A-Z^a-z\\s]',x))\n",
    "locations_tweets_split1 = map(split_nonalphabetic_or_space, locations_tweets)\n",
    "fields_length = np.array(map(lambda x: len(x), locations_tweets_split1))\n",
    "#H, X1 = np.histogram(fields_length, max(fields_length-1), normed=True)\n",
    "                     "
   ]
  },
  {
   "cell_type": "code",
   "execution_count": 15,
   "metadata": {
    "collapsed": false
   },
   "outputs": [
    {
     "data": {
      "image/png": "[encoded data removed]",
      "text/plain": [
       "<matplotlib.figure.Figure at 0x7f5f25681e10>"
      ]
     },
     "metadata": {},
     "output_type": "display_data"
    }
   ],
   "source": [
    "fig, ax = plt.subplots()\n",
    "ax.hist(fields_length,max(fields_length-1), normed=1)\n",
    "plt.show()"
   ]
  },
  {
   "cell_type": "markdown",
   "metadata": {
    "collapsed": false
   },
   "source": [
    "# Using geonames database to geotag location"
   ]
  },
  {
   "cell_type": "code",
   "execution_count": 62,
   "metadata": {
    "collapsed": false
   },
   "outputs": [],
   "source": [
    "# Load csv with tailored geonames info\n",
    "geonameid_info_dict = pickle.load(open('../geonames/geonameid_info_dict.p'))\n",
    "name_geonameidLIST_dict = pickle.load(open('../geonames/name_geonameidLIST_dict.p'))\n",
    "asciiname_geonameidLIST_dict = pickle.load(open('../geonames/asciiname_geonameidLIST_dict.p'))\n",
    "altnames_geonameidLIST_dict = pickle.load(open('../geonames/altnames_geonameidLIST_dict.p'))"
   ]
  },
  {
   "cell_type": "code",
   "execution_count": 181,
   "metadata": {
    "collapsed": false
   },
   "outputs": [],
   "source": [
    "def geotag_location(location):\n",
    "    location = location.lower()\n",
    "    ll=[ location.strip().split(',')[0],\n",
    "         location.strip().split(' ')[0],\n",
    "         location.strip().split(' ')[-1],        \n",
    "         location.strip().split(',')[-1],      \n",
    "         location.strip().split('/')[0],     \n",
    "         location.strip().split('/')[-1],        \n",
    "         location.strip().split('.')[0],        \n",
    "         location.strip().split('.')[-1],        \n",
    "         location.strip().split('-')[0],        \n",
    "         location.strip().split('-')[-1] ]        \n",
    "    geoids = None\n",
    "    for l in ll: \n",
    "        if l in name_geonameidLIST_dict:\n",
    "            geoids = name_geonameidLIST_dict[l]\n",
    "            break\n",
    "        if l in altnames_geonameidLIST_dict: \n",
    "            geoids = altnames_geonameidLIST_dict[l]\n",
    "            break\n",
    "        if unicodedata.normalize('NFD', unicode(l)).encode('ASCII', 'ignore') in asciiname_geonameidLIST_dict: \n",
    "            geoids = asciiname_geonameidLIST_dict[unicodedata.normalize('NFD', unicode(l)).encode('ASCII', 'ignore')]\n",
    "            break\n",
    "    if geoids is None: return None, None\n",
    "    \n",
    "    # use geoid from largest population\n",
    "    geoid = geoids[max(enumerate(map(lambda geoid: geonameid_info_dict[geoid]['population'], geoids)), key=lambda x: x[1])[0]]\n",
    "\n",
    "    info = geonameid_info_dict [ geoid ]\n",
    "    return info, geoid"
   ]
  },
  {
   "cell_type": "code",
   "execution_count": 128,
   "metadata": {
    "collapsed": false
   },
   "outputs": [
    {
     "name": "stdout",
     "output_type": "stream",
     "text": [
      "'Los Madriles' official name is 'Madrid' and has coordinates = (40.4165, -3.70256)\n"
     ]
    }
   ],
   "source": [
    "name = \"Los Madriles\"\n",
    "info, geoid = geotag_location(name)\n",
    "print(\"'{}' official name is '{}' and has coordinates = ({}, {})\".format(name, info['name'], info['latitude'], info['longitude']))"
   ]
  }
 ],
 "metadata": {
  "kernelspec": {
   "display_name": "Python 2",
   "language": "python",
   "name": "python2"
  },
  "language_info": {
   "codemirror_mode": {
    "name": "ipython",
    "version": 2
   },
   "file_extension": ".py",
   "mimetype": "text/x-python",
   "name": "python",
   "nbconvert_exporter": "python",
   "pygments_lexer": "ipython2",
   "version": "2.7.12"
  }
 },
 "nbformat": 4,
 "nbformat_minor": 0
}
