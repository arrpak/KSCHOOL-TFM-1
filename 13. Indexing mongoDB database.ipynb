{
 "cells": [
  {
   "cell_type": "markdown",
   "metadata": {},
   "source": [
    "In this notebook, we will examine how to index and reindex a mongo database and the advantages of indexing the database"
   ]
  },
  {
   "cell_type": "code",
   "execution_count": 1,
   "metadata": {
    "collapsed": true
   },
   "outputs": [],
   "source": [
    "from pymongo import MongoClient, DESCENDING\n",
    "import time\n",
    "#DB connection\n",
    "MONGODB_HOST = 'localhost'\n",
    "MONGODB_PORT = 27017\n",
    "DBS_NAME = 'KSCHOOL_TFM'\n",
    "COLLECTION_NAME = 'tweets'\n",
    "connection = MongoClient(MONGODB_HOST, MONGODB_PORT) #getting client\n",
    "db_tweets = connection[DBS_NAME][COLLECTION_NAME] #getting db    "
   ]
  },
  {
   "cell_type": "code",
   "execution_count": 3,
   "metadata": {
    "collapsed": false
   },
   "outputs": [
    {
     "name": "stdout",
     "output_type": "stream",
     "text": [
      "There are 1537251 tweets stored in the database\n"
     ]
    }
   ],
   "source": [
    "n_tweets = db_tweets.find().count()\n",
    "print('There are {} tweets stored in the database'.format(n_tweets))"
   ]
  },
  {
   "cell_type": "markdown",
   "metadata": {},
   "source": [
    "The time it takes to perform a query before indexing the tag field"
   ]
  },
  {
   "cell_type": "code",
   "execution_count": 2,
   "metadata": {
    "collapsed": false
   },
   "outputs": [
    {
     "name": "stdout",
     "output_type": "stream",
     "text": [
      "1 loop, best of 3: 1min 20s per loop\n"
     ]
    }
   ],
   "source": [
    "%timeit db_tweets.find({'tag':'Jets'}).count()"
   ]
  },
  {
   "cell_type": "markdown",
   "metadata": {},
   "source": [
    "Lets create an index on the field tag"
   ]
  },
  {
   "cell_type": "code",
   "execution_count": 7,
   "metadata": {
    "collapsed": false
   },
   "outputs": [
    {
     "data": {
      "text/plain": [
       "u'tag_1'"
      ]
     },
     "execution_count": 7,
     "metadata": {},
     "output_type": "execute_result"
    }
   ],
   "source": [
    "db_tweets.create_index(\"tag\")"
   ]
  },
  {
   "cell_type": "markdown",
   "metadata": {},
   "source": [
    "The time it takes to perform a query after indexing the tag field"
   ]
  },
  {
   "cell_type": "code",
   "execution_count": 11,
   "metadata": {
    "collapsed": false
   },
   "outputs": [
    {
     "name": "stdout",
     "output_type": "stream",
     "text": [
      "The slowest run took 4.19 times longer than the fastest. This could mean that an intermediate result is being cached.\n",
      "10000 loops, best of 3: 181 µs per loop\n"
     ]
    }
   ],
   "source": [
    "%timeit db_tweets.find({'tag':'Jets'}).count()"
   ]
  },
  {
   "cell_type": "markdown",
   "metadata": {},
   "source": [
    "How does it take to index the database? I'll examine this in another frequently queried field: datetime. Here however, I will specify indexing in DESCENDING order since we'll query mostly most frequent tweets."
   ]
  },
  {
   "cell_type": "code",
   "execution_count": 40,
   "metadata": {
    "collapsed": false
   },
   "outputs": [
    {
     "name": "stdout",
     "output_type": "stream",
     "text": [
      "indexing the database takes 124.65 seconds\n"
     ]
    }
   ],
   "source": [
    "t1 = time.time()\n",
    "db_tweets.create_index([(\"dateTime\", DESCENDING)])\n",
    "t2 = time.time()\n",
    "print(\"indexing the database takes {:.2f} seconds\".format(t2-t1))"
   ]
  },
  {
   "cell_type": "markdown",
   "metadata": {},
   "source": [
    "Lets index one more frequently queried field"
   ]
  },
  {
   "cell_type": "code",
   "execution_count": 42,
   "metadata": {
    "collapsed": false
   },
   "outputs": [
    {
     "data": {
      "text/plain": [
       "u'lang_1'"
      ]
     },
     "execution_count": 42,
     "metadata": {},
     "output_type": "execute_result"
    }
   ],
   "source": [
    "db_tweets.create_index(\"lang\")"
   ]
  },
  {
   "cell_type": "markdown",
   "metadata": {},
   "source": [
    "Finally, since our database is constantly adding tweets, lets examine first how long it takes to query database after adding some unindexed fields and second how long it takes to reindex the whole database"
   ]
  },
  {
   "cell_type": "code",
   "execution_count": 44,
   "metadata": {
    "collapsed": false
   },
   "outputs": [
    {
     "name": "stdout",
     "output_type": "stream",
     "text": [
      "There are 1539046 tweets stored in the database\n"
     ]
    }
   ],
   "source": [
    "n_tweets = db_tweets.find().count()\n",
    "print('There are {} tweets stored in the database'.format(n_tweets))"
   ]
  },
  {
   "cell_type": "code",
   "execution_count": 46,
   "metadata": {
    "collapsed": false
   },
   "outputs": [
    {
     "name": "stdout",
     "output_type": "stream",
     "text": [
      "There are 1795 new entries\n"
     ]
    }
   ],
   "source": [
    "print(\"There are {} new entries\".format(1539046 -1537251))"
   ]
  },
  {
   "cell_type": "markdown",
   "metadata": {},
   "source": [
    "Time in takes to query a field that did not update (no new tweet with this tag)"
   ]
  },
  {
   "cell_type": "code",
   "execution_count": 47,
   "metadata": {
    "collapsed": false
   },
   "outputs": [
    {
     "name": "stdout",
     "output_type": "stream",
     "text": [
      "1000 loops, best of 3: 321 µs per loop\n"
     ]
    }
   ],
   "source": [
    "%timeit db_tweets.find({'tag':'Jets'}).count()"
   ]
  },
  {
   "cell_type": "markdown",
   "metadata": {},
   "source": [
    "Time in takes to query a field that did update (new tweet with this tag)"
   ]
  },
  {
   "cell_type": "code",
   "execution_count": 48,
   "metadata": {
    "collapsed": false
   },
   "outputs": [
    {
     "name": "stdout",
     "output_type": "stream",
     "text": [
      "1000 loops, best of 3: 521 µs per loop\n"
     ]
    }
   ],
   "source": [
    "%timeit db_tweets.find({'tag':'nuevo Gobierno'}).count()"
   ]
  },
  {
   "cell_type": "markdown",
   "metadata": {},
   "source": [
    "Finally, how long does it take to reindex database?"
   ]
  },
  {
   "cell_type": "code",
   "execution_count": 50,
   "metadata": {
    "collapsed": false
   },
   "outputs": [
    {
     "name": "stdout",
     "output_type": "stream",
     "text": [
      "reindexing the database takes 381.51 seconds\n"
     ]
    }
   ],
   "source": [
    "t1 = time.time()\n",
    "db_tweets.reindex()\n",
    "t2 = time.time()\n",
    "print(\"reindexing the database takes {:.2f} seconds\".format(t2-t1))"
   ]
  }
 ],
 "metadata": {
  "kernelspec": {
   "display_name": "Python 2",
   "language": "python",
   "name": "python2"
  },
  "language_info": {
   "codemirror_mode": {
    "name": "ipython",
    "version": 2
   },
   "file_extension": ".py",
   "mimetype": "text/x-python",
   "name": "python",
   "nbconvert_exporter": "python",
   "pygments_lexer": "ipython2",
   "version": "2.7.12"
  }
 },
 "nbformat": 4,
 "nbformat_minor": 0
}
